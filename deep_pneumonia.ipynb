{
 "cells": [
  {
   "cell_type": "code",
   "execution_count": 1,
   "metadata": {},
   "outputs": [
    {
     "name": "stderr",
     "output_type": "stream",
     "text": [
      "Using TensorFlow backend.\n"
     ]
    }
   ],
   "source": [
    "import numpy as np\n",
    "import tensorflow as tf\n",
    "tf.reset_default_graph()\n",
    "from keras.preprocessing.image import ImageDataGenerator\n",
    "import time"
   ]
  },
  {
   "cell_type": "code",
   "execution_count": 2,
   "metadata": {},
   "outputs": [
    {
     "name": "stdout",
     "output_type": "stream",
     "text": [
      "Found 5216 images belonging to 2 classes.\n",
      "Found 16 images belonging to 2 classes.\n",
      "Found 624 images belonging to 2 classes.\n"
     ]
    }
   ],
   "source": [
    "rescale = 1./255\n",
    "IMG_HEIGHT = 150\n",
    "IMG_WIDTH = 150\n",
    "MINI_BATCH = 32\n",
    "PATH = \"/Users/hyunjaecho/Desktop/chest_xray/\"\n",
    "\n",
    "train_generator = ImageDataGenerator(rescale=rescale).flow_from_directory(\n",
    "    PATH + \"train\",\n",
    "    target_size=(IMG_HEIGHT, IMG_WIDTH),\n",
    "    batch_size=MINI_BATCH,\n",
    "    class_mode='binary')\n",
    "\n",
    "v_generator = ImageDataGenerator(rescale=rescale).flow_from_directory(\n",
    "    PATH + \"val\",\n",
    "    target_size=(IMG_HEIGHT, IMG_WIDTH),\n",
    "    batch_size=MINI_BATCH,\n",
    "    class_mode='binary')\n",
    "\n",
    "test_generator = ImageDataGenerator(rescale=rescale).flow_from_directory(\n",
    "    PATH + \"test\",\n",
    "    target_size=(IMG_HEIGHT, IMG_WIDTH),\n",
    "    batch_size=MINI_BATCH,\n",
    "    class_mode='binary')\n"
   ]
  },
  {
   "cell_type": "code",
   "execution_count": 3,
   "metadata": {},
   "outputs": [],
   "source": [
    "# from PIL import Image\n",
    "\n",
    "# img = Image.fromarray(train_generator[0][0][:,:,0], 'RGB')\n",
    "# img.save('my.png')\n",
    "# img.show()"
   ]
  },
  {
   "cell_type": "code",
   "execution_count": 4,
   "metadata": {},
   "outputs": [],
   "source": [
    "# Variables\n",
    "\n",
    "NUM_CHANNELS = 3\n",
    "NUM_LABELS = 2\n",
    "LEARNING_RATE = 0.01\n",
    "\n",
    "with tf.name_scope(\"hidden-layer\"):\n",
    "    conv1_weights = tf.Variable(tf.truncated_normal([7, 7, NUM_CHANNELS, 32]))\n",
    "    conv1_bias = tf.Variable(tf.zeros([32]))\n",
    "\n",
    "    conv2_weights = tf.Variable(tf.truncated_normal([7, 7, 32, 64]))\n",
    "    conv2_bias = tf.Variable(tf.zeros([64]))\n",
    "\n",
    "    fc1_weights = tf.Variable(tf.truncated_normal([int(np.ceil(IMG_HEIGHT / 4)) * int(np.ceil(IMG_WIDTH / 4)) * 64, 512]))\n",
    "    fc1_biases = tf.Variable(tf.constant(0.1, shape=[512]))\n",
    "\n",
    "    fc2_weights = tf.Variable(tf.truncated_normal([512, NUM_LABELS]))\n",
    "    fc2_biases = tf.Variable(tf.constant(0.1, shape=[NUM_LABELS]))\n"
   ]
  },
  {
   "cell_type": "code",
   "execution_count": 5,
   "metadata": {},
   "outputs": [],
   "source": [
    "def model(data):\n",
    "    # conv layer 1\n",
    "    print(\"DATA: \", data.shape)\n",
    "    conv = tf.nn.conv2d(data, filter=conv1_weights, strides=[1,1,1,1], padding='SAME')\n",
    "    conv = tf.nn.bias_add(conv, conv1_bias)\n",
    "    activate = tf.nn.relu(conv)\n",
    "    dropout = tf.nn.dropout(activate, 0.5)\n",
    "    pool = tf.nn.max_pool(dropout, ksize=[1,2,2,1], strides=[1, 2, 2, 1], padding='SAME')\n",
    "\n",
    "    # conv layer 2\n",
    "    conv = tf.nn.conv2d(pool, filter=conv2_weights, strides=[1,1,1,1], padding='SAME')\n",
    "    conv = tf.nn.bias_add(conv, conv2_bias)\n",
    "    activate = tf.nn.relu(conv)\n",
    "    dropout = tf.nn.dropout(activate, 0.5)\n",
    "    \n",
    "    pool = tf.nn.max_pool(activate, ksize=[1,2,2,1], strides=[1, 2, 2, 1], padding='SAME')\n",
    "    pool_shape = pool.get_shape().as_list()\n",
    "    pool = tf.convert_to_tensor(pool)\n",
    "    \n",
    "    reshape = tf.reshape(pool, [pool_shape[0], pool_shape[1] * pool_shape[2] * pool_shape[3]])\n",
    "\n",
    "    print(\"POOL: \", pool_shape)\n",
    "    print(\"reshape: \", reshape.shape)\n",
    "    print(\"FC1 W: \",fc1_weights.get_shape().as_list())\n",
    "    print(int(np.ceil(IMG_HEIGHT / 4)), int(np.ceil(IMG_WIDTH / 4)))\n",
    "    \n",
    "    # fc layer 1\n",
    "    fc1 = tf.matmul(reshape, fc1_weights) + fc1_biases\n",
    "    fc1_activate = tf.nn.relu(fc1)\n",
    "    fc1 = tf.nn.dropout(fc1_activate, 0.5)\n",
    "    \n",
    "    # fc layer 2\n",
    "    fc2 = tf.matmul(fc1, fc2_weights) + fc2_biases\n",
    "    \n",
    "    return fc2"
   ]
  },
  {
   "cell_type": "code",
   "execution_count": 6,
   "metadata": {},
   "outputs": [],
   "source": [
    "# placeholders\n",
    "with tf.name_scope(\"placeholders\"):\n",
    "    train_batch = tf.placeholder(dtype=tf.float32, shape=[MINI_BATCH, IMG_HEIGHT, IMG_WIDTH, NUM_CHANNELS])\n",
    "    train_labels = tf.placeholder(dtype=tf.int64, shape=[MINI_BATCH,])\n",
    "    \n",
    "    eval_batch = tf.placeholder(dtype=np.float32, shape=[16, IMG_HEIGHT, IMG_WIDTH, NUM_CHANNELS])\n",
    "    eval_labels = tf.placeholder(dtype=np.int64, shape=[16,])\n",
    "    \n",
    "    "
   ]
  },
  {
   "cell_type": "code",
   "execution_count": 7,
   "metadata": {},
   "outputs": [
    {
     "name": "stdout",
     "output_type": "stream",
     "text": [
      "DATA:  (32, 150, 150, 3)\n",
      "<class 'tensorflow.python.framework.ops.Tensor'>\n",
      "POOL:  [32, 38, 38, 64]\n",
      "reshape:  (32, 92416)\n",
      "FC1 W:  [92416, 512]\n",
      "38 38\n",
      "DATA:  (16, 150, 150, 3)\n",
      "<class 'tensorflow.python.framework.ops.Tensor'>\n",
      "POOL:  [16, 38, 38, 64]\n",
      "reshape:  (16, 92416)\n",
      "FC1 W:  [92416, 512]\n",
      "38 38\n"
     ]
    }
   ],
   "source": [
    "logits = model(train_batch)\n",
    "\n",
    "# Predictions for the current training minibatch.\n",
    "train_prediction = tf.nn.softmax(logits)\n",
    "\n",
    "# Validation prediction\n",
    "eval_prediction = tf.nn.softmax(model(eval_batch))\n",
    "\n",
    "with tf.name_scope(\"loss\"):\n",
    "    loss = tf.reduce_mean(tf.nn.sparse_softmax_cross_entropy_with_logits(labels=train_labels, logits=logits))\n",
    "    regularizers = (tf.nn.l2_loss(fc1_weights)\n",
    "                + tf.nn.l2_loss(fc1_biases)\n",
    "                + tf.nn.l2_loss(fc2_weights)\n",
    "                + tf.nn.l2_loss(fc2_biases))\n",
    "    \n",
    "    alpha = 5e-2\n",
    "    loss += alpha * regularizers\n",
    "    \n",
    "with tf.name_scope(\"optimizer\"):\n",
    "    optimizer = tf.train.MomentumOptimizer(0.01, 0.9).minimize(loss)\n"
   ]
  },
  {
   "cell_type": "code",
   "execution_count": 8,
   "metadata": {},
   "outputs": [],
   "source": [
    "def error_rate(predictions, labels):\n",
    "  \"\"\"Return the error rate based on dense predictions and sparse labels.\"\"\"\n",
    "  return 100.0 - (\n",
    "      100.0 *\n",
    "      np.sum(np.argmax(predictions, 1) == labels) /\n",
    "      predictions.shape[0])"
   ]
  },
  {
   "cell_type": "code",
   "execution_count": null,
   "metadata": {},
   "outputs": [],
   "source": []
  },
  {
   "cell_type": "code",
   "execution_count": 12,
   "metadata": {},
   "outputs": [
    {
     "name": "stdout",
     "output_type": "stream",
     "text": [
      "Session started\n",
      "0 -th iteration\n",
      "training loss:  2568509.5\n",
      "training predictions:  18.75\n",
      "validation predictions:  50.0\n",
      "10 -th iteration\n",
      "training loss:  31848.5\n",
      "training predictions:  31.25\n",
      "validation predictions:  37.5\n",
      "20 -th iteration\n",
      "training loss:  8699.543\n",
      "training predictions:  25.0\n",
      "validation predictions:  25.0\n",
      "30 -th iteration\n",
      "training loss:  2515.264\n",
      "training predictions:  21.875\n",
      "validation predictions:  18.75\n",
      "40 -th iteration\n",
      "training loss:  5131.893\n",
      "training predictions:  18.75\n",
      "validation predictions:  31.25\n",
      "50 -th iteration\n",
      "training loss:  1828.672\n",
      "training predictions:  15.625\n",
      "validation predictions:  12.5\n",
      "60 -th iteration\n",
      "training loss:  87.83351\n",
      "training predictions:  3.125\n",
      "validation predictions:  25.0\n",
      "70 -th iteration\n",
      "training loss:  1209.5933\n",
      "training predictions:  21.875\n",
      "validation predictions:  31.25\n",
      "80 -th iteration\n",
      "training loss:  569.9312\n",
      "training predictions:  12.5\n",
      "validation predictions:  12.5\n",
      "90 -th iteration\n",
      "training loss:  374.8001\n",
      "training predictions:  6.25\n",
      "validation predictions:  12.5\n",
      "Training:  322.926784992218\n"
     ]
    }
   ],
   "source": [
    "# Training\n",
    "\n",
    "\"\"\"\n",
    "NORMAL = 0\n",
    "PNEUMONIA = 1\n",
    "\n",
    "train_generator: 163 of minibatches of training data\n",
    "train_generator[i] = 32 images\n",
    "train_generator[i][j] = i,j -th image, shape (IMG_HEIGHT, IMG_WIDTH, CHANNELS=3)\n",
    "\n",
    "\"\"\"\n",
    "\n",
    "NUM_ITERATIONS = 100\n",
    "start_time = time.time()\n",
    "\n",
    "with tf.Session() as sess:\n",
    "    print(\"Session started\")\n",
    "    sess.run(tf.global_variables_initializer())\n",
    "    \n",
    "    with tf.name_scope(\"summaries\"):\n",
    "        tf.summary.scalar(\"loss\", loss)\n",
    "        writer = tf.summary.FileWriter(\"./nn_logs\", sess.graph)\n",
    "        merged = tf.summary.merge_all()\n",
    "    \n",
    "    for i in np.arange(NUM_ITERATIONS):\n",
    "        \n",
    "        batch_data = train_generator[i][0]\n",
    "        batch_labels = train_generator[i][1]\n",
    "        \n",
    "        feed_dict = {train_batch:batch_data, train_labels:batch_labels}\n",
    "\n",
    "        sess.run(optimizer, feed_dict=feed_dict)\n",
    "        \n",
    "        if i % 10 == 0:\n",
    "            print(i, \"-th iteration\")\n",
    "            l, predictions = sess.run([loss, train_prediction], feed_dict=feed_dict)\n",
    "            print(\"training loss: \", l)\n",
    "            print(\"training predictions: \", error_rate(predictions, batch_labels))\n",
    "            \n",
    "            # Validation\n",
    "            val_data, val_labels = v_generator[0][0], v_generator[0][1]\n",
    "            val_feed_dict = {eval_batch:val_data, eval_labels:val_labels}\n",
    "            val_prediction = sess.run(eval_prediction, feed_dict=val_feed_dict)\n",
    "#             print(\"\\nvalidation loss: \", v_l)\n",
    "            print(\"validation predictions: \", error_rate(val_prediction, val_labels))\n",
    "\n",
    "    print(\"Training: \", time.time() - start_time)\n",
    "    \n",
    "    \n",
    "#     test_error = error_rate(test_data, test_labels)\n",
    "#     print('Test error: %.1f%%' % test_error)\n",
    "        \n",
    "        "
   ]
  },
  {
   "cell_type": "code",
   "execution_count": null,
   "metadata": {},
   "outputs": [],
   "source": []
  }
 ],
 "metadata": {
  "kernelspec": {
   "display_name": "Python 3",
   "language": "python",
   "name": "python3"
  },
  "language_info": {
   "codemirror_mode": {
    "name": "ipython",
    "version": 3
   },
   "file_extension": ".py",
   "mimetype": "text/x-python",
   "name": "python",
   "nbconvert_exporter": "python",
   "pygments_lexer": "ipython3",
   "version": "3.6.5"
  }
 },
 "nbformat": 4,
 "nbformat_minor": 2
}
